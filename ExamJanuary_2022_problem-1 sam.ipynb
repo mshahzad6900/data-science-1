{
 "cells": [
  {
   "cell_type": "markdown",
   "id": "3af150ce",
   "metadata": {
    "deletable": false
   },
   "source": [
    "# Exam 2021, 8.00-13.00 for the course 1MS041 (Introduction to Data Science / Introduktion till dataanalys)\n",
    "\n",
    "## Instructions:\n",
    "1. Complete the problems by following instructions.\n",
    "2. When done, submit this file with your solutions saved, following the instruction sheet.\n",
    "\n",
    "This exam has 3 problems for a total of 40 points, to pass you need\n",
    "20 points.\n",
    "\n",
    "## Some general hints and information:\n",
    "* Try to answer all questions even if you are uncertain.\n",
    "* Comment your code, so that if you get the wrong answer I can understand how you thought\n",
    "this can give you some points even though the code does not run.\n",
    "* Follow the instruction sheet rigorously.\n",
    "* This exam is partially autograded, but your code and your free text answers are manually graded anonymously.\n",
    "* If there are any questions, please ask the exam guards, they will escalate it to me if necessary.\n",
    "* I (Benny) will visit the exam room at around 10:30 to see if there are any questions.\n",
    "\n",
    "## Tips for free text answers\n",
    "* Be VERY clear with your reasoning, there should be zero ambiguity in what you are referring to.\n",
    "* If you want to include math, you can write LaTeX in the Markdown cells, for instance `$f(x)=x^2$` will be rendered as $f(x)=x^2$ and `$$f(x) = x^2$$` will become an equation line, as follows\n",
    "$$f(x) = x^2$$\n",
    "Another example is `$$f_{Y \\mid X}(y,x) = P(Y = y \\mid X = x) = \\exp(\\alpha \\cdot x + \\beta)$$` which renders as\n",
    "$$f_{Y \\mid X}(y,x) = P(Y = y \\mid X = x) = \\exp(\\alpha \\cdot x + \\beta)$$\n",
    "\n",
    "## Finally some rules:\n",
    "* You may not communicate with others during the exam, for example:\n",
    "    * You cannot ask for help in Stack-Overflow or other such help forums during the Exam.\n",
    "    * You may not communicate with AI's, for instance ChatGPT.\n",
    "    * Your on-line and off-line activity is being monitored according to the examination rules.\n",
    "\n",
    "## Good luck!"
   ]
  },
  {
   "cell_type": "code",
   "execution_count": null,
   "id": "6a87c0aa",
   "metadata": {
    "deletable": false
   },
   "outputs": [],
   "source": [
    "# Insert your anonymous exam ID as a string in the variable below\n",
    "examID=\"XXX\"\n"
   ]
  },
  {
   "cell_type": "markdown",
   "id": "7e0803f8",
   "metadata": {
    "deletable": false,
    "lx_assignment_number": "vB",
    "lx_assignment_type": "EXAM",
    "lx_assignment_type2print": "Exam",
    "lx_problem_cell_type": "PROBLEM",
    "lx_problem_number": "1",
    "lx_problem_points": "8"
   },
   "source": [
    "---\n",
    "## Exam vB, PROBLEM 1\n",
    "Maximum Points = 8"
   ]
  },
  {
   "cell_type": "markdown",
   "id": "58c0b006",
   "metadata": {
    "deletable": false,
    "lx_assignment_number": "vB",
    "lx_assignment_type": "EXAM",
    "lx_assignment_type2print": "Exam",
    "lx_problem_cell_type": "PROBLEM",
    "lx_problem_number": "1",
    "lx_problem_points": "8"
   },
   "source": [
    "\n",
    "## Probability warmup\n",
    "Let's say we have an exam question which consists of $20$ yes/no questions. \n",
    "From past performance of similar students, a randomly chosen student will know the correct answer to $N \\sim \\text{binom}(20,11/20)$ questions. Furthermore, we assume that the student will guess the answer with equal probability to each question they don't know the answer to, i.e. given $N$ we define $Z \\sim \\text{binom}(20-N,1/2)$ as the number of correctly guessed answers. Define $Y = N + Z$, i.e., $Y$ represents the number of total correct answers.\n",
    "\n",
    "We are interested in setting a deterministic threshold $T$, i.e., we would pass a student at threshold $T$ if $Y \\geq T$. Here $T \\in \\{0,1,2,\\ldots,20\\}$.\n",
    "\n",
    "1. [5p] For each threshold $T$, compute the probability that the student *knows* less than $10$ correct answers given that the student passed, i.e., $N < 10$. Put the answer in `problem11_probabilities` as a list.\n",
    "2. [3p] What is the smallest value of $T$ such that if $Y \\geq T$ then we are 90\\% certain that $N \\geq 10$?"
   ]
  },
  {
   "cell_type": "code",
   "execution_count": 10,
   "id": "ee1990ab",
   "metadata": {
    "deletable": false,
    "lx_assignment_number": "vB",
    "lx_assignment_type": "EXAM",
    "lx_assignment_type2print": "Exam",
    "lx_problem_cell_type": "PROBLEM",
    "lx_problem_number": "1",
    "lx_problem_points": "8"
   },
   "outputs": [],
   "source": [
    "import numpy as np\n",
    "from scipy.special import binom as binomial\n",
    "# Hint the PMF of N is p_N(k) where p_N is\n",
    "p = 11/20\n",
    "p_N = lambda k: binomial(20,k)*(1-p)^(20-k)*(p)^k\n",
    "\n"
   ]
  },
  {
   "cell_type": "code",
   "execution_count": 14,
   "id": "21189865",
   "metadata": {
    "deletable": false,
    "lx_assignment_number": "vB",
    "lx_assignment_type": "EXAM",
    "lx_assignment_type2print": "Exam",
    "lx_problem_cell_type": "PROBLEM",
    "lx_problem_number": "1",
    "lx_problem_points": "8"
   },
   "outputs": [],
   "source": [
    "\n",
    "# Part 1: \n",
    "# replace XXX to represent P(N < 10) for T = [0,1,2,...,20], i.e. your answer should be a list\n",
    "# of length 21.\n",
    "import numpy as np\n",
    "from scipy.stats import binom\n",
    "\n",
    "# Part 1: Computing probabilities for each threshold T\n",
    "def compute_conditional_probabilities():\n",
    "    p = 11 / 20  # Probability that a student knows the answer to a question\n",
    "    problem11_probabilities = []\n",
    "    \n",
    "    # For each threshold T from 0 to 20\n",
    "    for T in range(21):\n",
    "        # P(Y >= T) = sum of probabilities for Y >= T\n",
    "        prob_Y_ge_T = sum(\n",
    "            binom.pmf(k, 20, p) * sum(\n",
    "                binom.pmf(z, 20-k, 0.5) for z in range(T - k, 21 - k)\n",
    "            ) for k in range(21)\n",
    "        )\n",
    "        \n",
    "        # P(N < 10, Y >= T)\n",
    "        prob_N_less_than_10_and_Y_ge_T = sum(\n",
    "            binom.pmf(k, 20, p) * sum(\n",
    "                binom.pmf(z, 20-k, 0.5) for z in range(T - k, 21 - k)\n",
    "            ) for k in range(10)\n",
    "        )\n",
    "        \n",
    "        # Conditional probability P(N < 10 | Y >= T)\n",
    "        prob_N_less_than_10_given_Y_ge_T = prob_N_less_than_10_and_Y_ge_T / prob_Y_ge_T\n",
    "        problem11_probabilities.append(prob_N_less_than_10_given_Y_ge_T)\n",
    "    \n",
    "    return problem11_probabilities\n",
    "\n",
    "problem11_probabilities = compute_conditional_probabilities()"
   ]
  },
  {
   "cell_type": "code",
   "execution_count": null,
   "id": "884401a0",
   "metadata": {},
   "outputs": [],
   "source": [
    "# replace XXX to represent P(N < 10) for T = [0,1,2,...,20], i.e. your answer should be a list\n",
    "# of length 21.\n",
    "# problem11_probabilities = [np.float64(0.16623861760000005),\n",
    "#  np.float64(0.16623853222282575),\n",
    "#  np.float64(0.16623511712151579),\n",
    "#  np.float64(0.1661736405135802),\n",
    "#  np.float64(0.16551732549063344),\n",
    "#  np.float64(0.1608940308080942),\n",
    "#  np.float64(0.14445279891451654),\n",
    "#  np.float64(0.11223025722358065),\n",
    "#  np.float64(0.0732121231532333),\n",
    "#  np.float64(0.040584564208984396),\n",
    "#  np.float64(0.0197277069091797)]"
   ]
  },
  {
   "cell_type": "code",
   "execution_count": null,
   "id": "bf6dd15e",
   "metadata": {},
   "outputs": [],
   "source": [
    "# Find the smallest T such that P(N >= 5 | Y >= T) >= 0.9\n",
    "# for T, prob in enumerate(problem11_probabilities):\n",
    "#     if 1 - prob >= 0.9:\n",
    "#         smallest_T = T  #smallest T 90%\n",
    "#         break\n",
    "\n",
    "# smallest_T"
   ]
  },
  {
   "cell_type": "code",
   "execution_count": 15,
   "id": "b8ae2fc9",
   "metadata": {},
   "outputs": [],
   "source": [
    "def find_threshold_for_90_percent_certainty():\n",
    "    p = 11 / 20  # Probability that a student knows the answer to a question\n",
    "    for T in range(21):\n",
    "        # P(Y >= T)\n",
    "        prob_Y_ge_T = sum(\n",
    "            binom.pmf(k, 20, p) * sum(\n",
    "                binom.pmf(z, 20-k, 0.5) for z in range(T - k, 21 - k)\n",
    "            ) for k in range(21)\n",
    "        )\n",
    "        \n",
    "        # P(N >= 10, Y >= T)\n",
    "        prob_N_ge_10_and_Y_ge_T = sum(\n",
    "            binom.pmf(k, 20, p) * sum(\n",
    "                binom.pmf(z, 20-k, 0.5) for z in range(T - k, 21 - k)\n",
    "            ) for k in range(10, 21)\n",
    "        )\n",
    "        \n",
    "        # Conditional probability P(N >= 10 | Y >= T)\n",
    "        prob_N_ge_10_given_Y_ge_T = prob_N_ge_10_and_Y_ge_T / prob_Y_ge_T\n",
    "        \n",
    "        # If the probability is at least 0.9, return T\n",
    "        if prob_N_ge_10_given_Y_ge_T >= 0.9:\n",
    "            return T\n",
    "    \n",
    "    return None"
   ]
  },
  {
   "cell_type": "code",
   "execution_count": 16,
   "id": "fbdf94f0",
   "metadata": {
    "deletable": false,
    "lx_assignment_number": "vB",
    "lx_assignment_type": "EXAM",
    "lx_assignment_type2print": "Exam",
    "lx_problem_cell_type": "PROBLEM",
    "lx_problem_number": "1",
    "lx_problem_points": "8"
   },
   "outputs": [],
   "source": [
    "\n",
    "# Part 2: Give an integer between 0 and 20 which is the answer to 2.\n",
    "problem12_T = find_threshold_for_90_percent_certainty()"
   ]
  },
  {
   "cell_type": "markdown",
   "id": "ba061a0a",
   "metadata": {
    "deletable": false,
    "lx_assignment_number": "vB",
    "lx_assignment_type": "EXAM",
    "lx_assignment_type2print": "Exam",
    "lx_problem_cell_type": "PROBLEM",
    "lx_problem_number": "2",
    "lx_problem_points": "8"
   },
   "source": [
    "---\n",
    "## Exam vB, PROBLEM 2\n",
    "Maximum Points = 8"
   ]
  },
  {
   "cell_type": "markdown",
   "id": "e65bbdf6",
   "metadata": {
    "deletable": false,
    "lx_assignment_number": "vB",
    "lx_assignment_type": "EXAM",
    "lx_assignment_type2print": "Exam",
    "lx_problem_cell_type": "PROBLEM",
    "lx_problem_number": "2",
    "lx_problem_points": "8"
   },
   "source": [
    "\n",
    "## Random variable generation and transformation\n",
    "\n",
    "The purpose of this problem is to show that you can implement your own sampler, this will be built in the following three steps:\n",
    "\n",
    "1. [2p] Implement a Linear Congruential Generator where you tested out a good combination (a large $M$ with $a,b$ satisfying the Hull-Dobell (Thm 6.8)) of parameters. Follow the instructions in the code block.\n",
    "2. [2p] Using a generator construct random numbers from the uniform $[0,1]$ distribution.\n",
    "3. [4p] Using a uniform $[0,1]$ random generator, generate samples from \n",
    "\n",
    "$$p_0(x) = \\frac{\\pi}{2}|\\sin(2\\pi x)|, \\quad x \\in [0,1] \\enspace .$$\n",
    "\n",
    "Using the **Accept-Reject** sampler (**Algorithm 1** in TFDS notes) with sampling density given by the uniform $[0,1]$ distribution."
   ]
  },
  {
   "cell_type": "code",
   "execution_count": 3,
   "id": "c725dda0",
   "metadata": {},
   "outputs": [],
   "source": [
    "import numpy as np"
   ]
  },
  {
   "cell_type": "code",
   "execution_count": 1,
   "id": "3449666b",
   "metadata": {
    "deletable": false,
    "lx_assignment_number": "vB",
    "lx_assignment_type": "EXAM",
    "lx_assignment_type2print": "Exam",
    "lx_problem_cell_type": "PROBLEM",
    "lx_problem_number": "2",
    "lx_problem_points": "8"
   },
   "outputs": [],
   "source": [
    "\n",
    "def problem2_LCG(size=None, seed = 0):\n",
    "    \"\"\"\n",
    "    A linear congruential generator that generates pseudo random numbers according to size.\n",
    "    \n",
    "    Parameters\n",
    "    -------------\n",
    "    size : an integer denoting how many samples should be produced\n",
    "    seed : the starting point of the LCG, i.e. u0 in the notes.\n",
    "    \n",
    "    Returns\n",
    "    -------------\n",
    "    out : a list of the pseudo random numbers\n",
    "    \"\"\"\n",
    "    \n",
    "    M = 2**31 - 1  # A large prime number for modulus\n",
    "    a = 1103515245  # Multiplier\n",
    "    b = 12345       # Increment\n",
    "    \n",
    "    u = seed\n",
    "    numbers = []\n",
    "    \n",
    "    for _ in range(size):\n",
    "        u = (a * u + b) % M\n",
    "        numbers.append(u / M)\n",
    "    \n",
    "    return numbers\n",
    "    "
   ]
  },
  {
   "cell_type": "code",
   "execution_count": 2,
   "id": "c7955134",
   "metadata": {
    "deletable": false,
    "lx_assignment_number": "vB",
    "lx_assignment_type": "EXAM",
    "lx_assignment_type2print": "Exam",
    "lx_problem_cell_type": "PROBLEM",
    "lx_problem_number": "2",
    "lx_problem_points": "8"
   },
   "outputs": [],
   "source": [
    "\n",
    "def problem2_uniform(generator=None, period = 1, size=None, seed=0):\n",
    "    \"\"\"\n",
    "    Takes a generator and produces samples from the uniform [0,1] distribution according\n",
    "    to size.\n",
    "    \n",
    "    Parameters\n",
    "    -------------\n",
    "    generator : a function of type generator(size,seed) and produces the same result as problem2_LCG, i.e. pseudo random numbers in the range {0,1,...,period-1}\n",
    "    period : the period of the generator\n",
    "    seed : the seed to be used in the generator provided\n",
    "    size : an integer denoting how many samples should be produced\n",
    "    \n",
    "    Returns\n",
    "    --------------\n",
    "    out : a list of the uniform pseudo random numbers\n",
    "    \"\"\"\n",
    "    \n",
    "    # Generate pseudo-random integers using the provided generator\n",
    "    random_integers = generator(size=size, seed=seed)\n",
    "    \n",
    "    # Normalize to [0, 1]\n",
    "    uniform_samples = [num / period for num in random_integers]\n",
    "    \n",
    "    return uniform_samples"
   ]
  },
  {
   "cell_type": "code",
   "execution_count": 4,
   "id": "af77a695",
   "metadata": {
    "deletable": false,
    "lx_assignment_number": "vB",
    "lx_assignment_type": "EXAM",
    "lx_assignment_type2print": "Exam",
    "lx_problem_cell_type": "PROBLEM",
    "lx_problem_number": "2",
    "lx_problem_points": "8"
   },
   "outputs": [],
   "source": [
    "\n",
    "def problem2_accept_reject(uniformGenerator=None, size=None, seed=0):\n",
    "    \"\"\"\n",
    "    Takes a generator that produces uniform pseudo random [0,1] numbers \n",
    "    and produces samples from (pi/2)*abs(sin(x*2*pi)) using an Accept-Reject\n",
    "    sampler with the uniform distribution as the proposal distribution\n",
    "    \n",
    "    Parameters\n",
    "    -------------\n",
    "    generator : a function of the type generator(size,seed) that produces uniform pseudo random\n",
    "    numbers from [0,1]\n",
    "    seed : the seed to be used in the generator provided\n",
    "    size : an integer denoting how many samples should be produced\n",
    "    \n",
    "    Returns\n",
    "    --------------\n",
    "    out : a list of the pseudo random numbers with the specified distribution\n",
    "    \"\"\"\n",
    "    \n",
    "    samples = []\n",
    "    c = np.pi / 2  # Constant for the accept-reject method (upper bound of the target distribution)\n",
    "    #np.random.seed(seed)\n",
    "\n",
    "    x_samples = uniformGenerator(size=size, seed=seed)\n",
    "    y_samples = [uniformGenerator(size=1, seed=seed)[0] * c for _ in range(size)]\n",
    "\n",
    "    for x, y in zip(x_samples, y_samples):\n",
    "        # Accept if y is below the target distribution at x\n",
    "        if y <= (np.pi / 2) * abs(np.sin(2 * np.pi * x)):\n",
    "            samples.append(x)\n",
    "    \n",
    "    return samples"
   ]
  },
  {
   "cell_type": "markdown",
   "id": "599292ac",
   "metadata": {
    "deletable": false,
    "lx_assignment_number": "vB",
    "lx_assignment_type": "EXAM",
    "lx_assignment_type2print": "Exam",
    "lx_problem_cell_type": "Test",
    "lx_problem_number": "2",
    "lx_problem_points": "8"
   },
   "source": [
    "---\n",
    "#### Local Test for Exam vB, PROBLEM 2\n",
    "Evaluate cell below to make sure your answer is valid.                             You **should not** modify anything in the cell below when evaluating it to do a local test of                             your solution.\n",
    "You may need to include and evaluate code snippets from lecture notebooks in cells above to make the local test work correctly sometimes (see error messages for clues). This is meant to help you become efficient at recalling materials covered in lectures that relate to this problem. Such local tests will generally not be available in the exam."
   ]
  },
  {
   "cell_type": "code",
   "execution_count": 7,
   "id": "32c53dd8",
   "metadata": {
    "deletable": false,
    "lx_assignment_number": "vB",
    "lx_assignment_type": "EXAM",
    "lx_assignment_type2print": "Exam",
    "lx_problem_cell_type": "Test",
    "lx_problem_number": "2",
    "lx_problem_points": "8"
   },
   "outputs": [
    {
     "name": "stdout",
     "output_type": "stream",
     "text": [
      "LCG output: [0.5138700783782965, 0.4398008065483537, 0.7894098422440746, 0.46938708772388615, 0.1094664871271078, 0.36136545304272577, 0.44898528067813503, 0.008931668013768115, 0.816477734510078, 0.23493939602511907]\n",
      "Uniform sampler [2.392894023179942e-10, 2.04798209831655e-10, 3.6759760352395114e-10, 2.1857539561691765e-10, 5.097430533640185e-11, 1.6827390213077872e-10, 2.0907506388016517e-10, 4.159132027033366e-12, 3.802020730871149e-10, 1.0940218164330407e-10]\n",
      "Accept-Reject sampler [2.392894023179942e-10, 2.04798209831655e-10, 3.6759760352395114e-10, 2.1857539561691765e-10, 5.097430533640185e-11, 1.6827390213077872e-10, 2.0907506388016517e-10, 3.802020730871149e-10, 1.0940218164330407e-10, 7.67489165384096e-11, 3.712815815632054e-10, 1.9590359257577553e-10, 1.5015622331570907e-10, 2.1620986011285925e-10, 7.092363226760828e-11, 6.783594872706292e-11, 2.485384250982288e-10, 1.6969219426514264e-10, 5.6065023335861446e-11]\n"
     ]
    }
   ],
   "source": [
    "\n",
    "# If you managed to solve all three parts you can test the following code to see if it runs\n",
    "# you have to change the period to match your LCG though, this is marked as XXX.\n",
    "# It is a very good idea to check these things using the histogram function in sagemath\n",
    "# try with a larger number of samples, up to 10000 should run\n",
    "\n",
    "print(\"LCG output: %s\" % problem2_LCG(size=10, seed = 1))\n",
    "\n",
    "period = 2**31 \n",
    "\n",
    "print(\"Uniform sampler %s\" % problem2_uniform(generator=problem2_LCG, period = period, size=10, seed=1))\n",
    "\n",
    "uniform_sampler = lambda size,seed: problem2_uniform(generator=problem2_LCG, period = period, size=size, seed=seed)\n",
    "\n",
    "print(\"Accept-Reject sampler %s\" % problem2_accept_reject(uniformGenerator = uniform_sampler,size=20,seed=1))"
   ]
  },
  {
   "cell_type": "code",
   "execution_count": null,
   "id": "c8dc1417",
   "metadata": {},
   "outputs": [],
   "source": [
    "\n",
    "# If however you did not manage to implement either part 1 or part 2 but still want to check part 3, you can run the code below\n",
    "\n",
    "def testUniformGenerator(size,seed):\n",
    "    set_random_seed(seed)\n",
    "    \n",
    "    return [random() for s in range(size)]\n",
    "\n",
    "print(\"Accept-Reject sampler %s\" % problem2_accept_reject(uniformGenerator=testUniformGenerator, size=20, seed=1))"
   ]
  },
  {
   "cell_type": "markdown",
   "id": "9848ffea",
   "metadata": {
    "deletable": false,
    "lx_assignment_number": "vB",
    "lx_assignment_type": "EXAM",
    "lx_assignment_type2print": "Exam",
    "lx_problem_cell_type": "PROBLEM",
    "lx_problem_number": "3",
    "lx_problem_points": "8"
   },
   "source": [
    "---\n",
    "## Exam vB, PROBLEM 3\n",
    "Maximum Points = 8"
   ]
  },
  {
   "cell_type": "markdown",
   "id": "6fe7b29f",
   "metadata": {
    "deletable": false,
    "lx_assignment_number": "vB",
    "lx_assignment_type": "EXAM",
    "lx_assignment_type2print": "Exam",
    "lx_problem_cell_type": "PROBLEM",
    "lx_problem_number": "3",
    "lx_problem_points": "8"
   },
   "source": [
    "\n",
    "## Concentration of measure\n",
    "\n",
    "As you recall, we said that concentration of measure was simply the phenomenon where we expect that the probability of a large deviation of some quantity becoming smaller as we observe more samples: [0.4 points per correct answer]\n",
    "\n",
    "1. Which of the following will exponentially concentrate, i.e. for some $C_1,C_2,C_3,C_4 $ \n",
    "$$\n",
    "    P(Z - \\mathbb{E}[Z] \\geq \\epsilon) \\leq C_1 e^{-C_2 n \\epsilon^2} \\wedge C_3 e^{-C_4 n (\\epsilon+1)} \\enspace .\n",
    "$$\n",
    "\n",
    "    1. The empirical mean of i.i.d. sub-Gaussian random variables?\n",
    "    2. The empirical mean of i.i.d. sub-Exponential random variables?\n",
    "    3. The empirical mean of i.i.d. random variables with finite variance?\n",
    "    4. The empirical variance of i.i.d. random variables with finite variance?\n",
    "    5. The empirical variance of i.i.d. sub-Gaussian random variables?\n",
    "    6. The empirical variance of i.i.d. sub-Exponential random variables?\n",
    "    7. The empirical third moment of i.i.d. sub-Gaussian random variables?\n",
    "    8. The empirical fourth moment of i.i.d. sub-Gaussian random variables?\n",
    "    9. The empirical mean of i.i.d. deterministic random variables?\n",
    "    10. The empirical tenth moment of i.i.d. Bernoulli random variables?\n",
    "\n",
    "2. Which of the above will concentrate in the weaker sense, that for some $C_1$\n",
    "$$\n",
    "    P(Z - \\mathbb{E}[Z] \\geq \\epsilon) \\leq \\frac{C_1}{n \\epsilon^2}?\n",
    "$$"
   ]
  },
  {
   "cell_type": "code",
   "execution_count": null,
   "id": "593fba5a",
   "metadata": {
    "deletable": false,
    "lx_assignment_number": "vB",
    "lx_assignment_type": "EXAM",
    "lx_assignment_type2print": "Exam",
    "lx_problem_cell_type": "PROBLEM",
    "lx_problem_number": "3",
    "lx_problem_points": "8"
   },
   "outputs": [],
   "source": [
    "\n",
    "# Answers to part 1, which of the alternatives exponentially concentrate, answer as a list\n",
    "# i.e. [1,4,5] that is example 1, 4, and 5 concentrate\n",
    "problem3_answer_1 = [1,2,4,5,6,10]"
   ]
  },
  {
   "cell_type": "code",
   "execution_count": null,
   "id": "4a11def9",
   "metadata": {
    "deletable": false,
    "lx_assignment_number": "vB",
    "lx_assignment_type": "EXAM",
    "lx_assignment_type2print": "Exam",
    "lx_problem_cell_type": "PROBLEM",
    "lx_problem_number": "3",
    "lx_problem_points": "8"
   },
   "outputs": [],
   "source": [
    "\n",
    "# Answers to part 2, which of the alternatives concentrate in the weaker sense, answer as a list\n",
    "# i.e. [1,4,5] that is example 1, 4, and 5 concentrate\n",
    "problem3_answer_2 = [1,2,3,4,5,6,9,10]"
   ]
  },
  {
   "cell_type": "markdown",
   "id": "6876a583",
   "metadata": {
    "deletable": false,
    "lx_assignment_number": "vB",
    "lx_assignment_type": "EXAM",
    "lx_assignment_type2print": "Exam",
    "lx_problem_cell_type": "PROBLEM",
    "lx_problem_number": "4",
    "lx_problem_points": "8"
   },
   "source": [
    "---\n",
    "## Exam vB, PROBLEM 4\n",
    "Maximum Points = 8"
   ]
  },
  {
   "cell_type": "markdown",
   "id": "46c6266e",
   "metadata": {
    "deletable": false,
    "lx_assignment_number": "vB",
    "lx_assignment_type": "EXAM",
    "lx_assignment_type2print": "Exam",
    "lx_problem_cell_type": "PROBLEM",
    "lx_problem_number": "4",
    "lx_problem_points": "8"
   },
   "source": [
    "\n",
    "## SMS spam filtering [8p]\n",
    "\n",
    "In the following problem we will explore SMS spam texts. The dataset is the `SMS Spam Collection Dataset` and we have provided for you a way to load the data. If you run the appropriate cell below, the result will be in the `spam_no_spam` variable. The result is a `list` of `tuples` with the first position in the tuple being the SMS text and the second being a flag `0 = not spam` and `1 = spam`.\n",
    "\n",
    "1. [3p] Let $X$ be the random variable that represents each SMS text (an entry in the list), and let $Y$ represent whether text is spam or not i.e. $Y \\in \\{0,1\\}$. Thus $\\mathbb{P}(Y = 1)$ is the probability that we get a spam. The goal is to estimate:\n",
    "$$\n",
    "    \\mathbb{P}(Y = 1 | \\text{\"free\" or \"prize\" is in } X) \\enspace .\n",
    "$$\n",
    "That is, the probability that the SMS is spam given that \"free\" or \"prize\" occurs in the SMS. \n",
    "Hint: it is good to remove the upper/lower case of words so that we can also find \"Free\" and \"Prize\"; this can be done with `text.lower()` if `text` a string.\n",
    "\n",
    "2. [3p] Provide a \"90\\%\" interval of confidence around the true probability. I.e. use the Hoeffding inequality to obtain for your estimate $\\hat P$ of the above quantity. Find $l > 0$ such that the following holds:\n",
    "$$\n",
    "    \\mathbb{P}(\\hat P - l \\leq \\mathbb{E}[\\hat P] \\leq \\hat P + l) \\geq 0.9 \\enspace .\n",
    "$$\n",
    "3. [2p] Repeat the two exercises above for \"free\" appearing twice in the SMS."
   ]
  },
  {
   "cell_type": "code",
   "execution_count": 26,
   "id": "45a03199",
   "metadata": {},
   "outputs": [],
   "source": [
    "import math\n",
    "from collections import Counter\n",
    "def load_sms_spam_data():\n",
    "    # Placeholder: Replace with actual dataset loading\n",
    "    return [\n",
    "        (\"Free prize for you\", 1),\n",
    "        (\"Win a free trip now\", 1),\n",
    "        (\"Hello, how are you?\", 0),\n",
    "        (\"Get your free prize now\", 1),\n",
    "        (\"This is not spam\", 0),\n",
    "        (\"Free entry in a contest\", 1),\n",
    "        (\"Claim your prize\", 1),\n",
    "        (\"Just checking in\", 0),\n",
    "        (\"This is free\", 1),\n",
    "    ]"
   ]
  },
  {
   "cell_type": "code",
   "execution_count": 27,
   "id": "0c86b4ce",
   "metadata": {
    "deletable": false,
    "lx_assignment_number": "vB",
    "lx_assignment_type": "EXAM",
    "lx_assignment_type2print": "Exam",
    "lx_problem_cell_type": "PROBLEM",
    "lx_problem_number": "4",
    "lx_problem_points": "8"
   },
   "outputs": [],
   "source": [
    "\n",
    "# Run this cell to get the SMS text data\n",
    "#from exam_extras import load_sms\n",
    "#spam_no_spam = load_sms()\n",
    "\n",
    "# Load data\n",
    "spam_no_spam = load_sms_spam_data()"
   ]
  },
  {
   "cell_type": "code",
   "execution_count": 28,
   "id": "3da0f279",
   "metadata": {
    "deletable": false,
    "lx_assignment_number": "vB",
    "lx_assignment_type": "EXAM",
    "lx_assignment_type2print": "Exam",
    "lx_problem_cell_type": "PROBLEM",
    "lx_problem_number": "4",
    "lx_problem_points": "8"
   },
   "outputs": [
    {
     "name": "stdout",
     "output_type": "stream",
     "text": [
      "P(Y=1 | 'free' or 'prize' in X): 1.0\n"
     ]
    }
   ],
   "source": [
    "\n",
    "def calculate_probability(data, keywords):\n",
    "    total_with_keywords = 0\n",
    "    spam_with_keywords = 0\n",
    "\n",
    "    for text, label in data:\n",
    "        text_lower = text.lower()\n",
    "        if any(keyword in text_lower for keyword in keywords):\n",
    "            total_with_keywords += 1\n",
    "            if label == 1:\n",
    "                spam_with_keywords += 1\n",
    "\n",
    "    if total_with_keywords == 0:\n",
    "        return 0, 0\n",
    "\n",
    "    probability = spam_with_keywords / total_with_keywords\n",
    "    return probability, total_with_keywords\n",
    "\n",
    "keywords = [\"free\", \"prize\"]\n",
    "probability, total_with_keywords = calculate_probability(spam_no_spam, keywords)\n",
    "print(f\"P(Y=1 | 'free' or 'prize' in X): {probability}\")\n",
    "\n",
    "# fill in the estimate for part 1 here (should be a number between 0 and 1)\n",
    "problem4_hatP = probability"
   ]
  },
  {
   "cell_type": "code",
   "execution_count": 25,
   "id": "8c72cc4e",
   "metadata": {
    "deletable": false,
    "lx_assignment_number": "vB",
    "lx_assignment_type": "EXAM",
    "lx_assignment_type2print": "Exam",
    "lx_problem_cell_type": "PROBLEM",
    "lx_problem_number": "4",
    "lx_problem_points": "8"
   },
   "outputs": [
    {
     "name": "stdout",
     "output_type": "stream",
     "text": [
      "90% Confidence Interval: [0.500355770443109, 1.499644229556891]\n"
     ]
    }
   ],
   "source": [
    "\n",
    "# Question 2: Hoeffding confidence interval\n",
    "def hoeffding_interval(probability, total_samples, confidence=0.9):\n",
    "    epsilon = np.sqrt(np.log(2 / (1 - confidence)) / (2 * total_samples))\n",
    "    return probability - epsilon, probability + epsilon\n",
    "\n",
    "lower_bound, upper_bound = hoeffding_interval(probability, total_with_keywords)\n",
    "print(f\"90% Confidence Interval: [{lower_bound}, {upper_bound}]\")\n",
    "\n",
    "# fill in the calculated l from part 2 here\n",
    "problem4_l = lower_bound - probability"
   ]
  },
  {
   "cell_type": "code",
   "execution_count": 23,
   "id": "b100e5ea",
   "metadata": {
    "deletable": false,
    "lx_assignment_number": "vB",
    "lx_assignment_type": "EXAM",
    "lx_assignment_type2print": "Exam",
    "lx_problem_cell_type": "PROBLEM",
    "lx_problem_number": "4",
    "lx_problem_points": "8"
   },
   "outputs": [
    {
     "name": "stdout",
     "output_type": "stream",
     "text": [
      "P(Y=1 | 'free' appears twice in X): 0\n"
     ]
    }
   ],
   "source": [
    "\n",
    "# Question 3: \"free\" appearing twice in the SMS\n",
    "def calculate_probability_double_free(data):\n",
    "    total_with_double_free = 0\n",
    "    spam_with_double_free = 0\n",
    "\n",
    "    for text, label in data:\n",
    "        text_lower = text.lower()\n",
    "        if text_lower.count(\"free\") >= 2:\n",
    "            total_with_double_free += 1\n",
    "            if label == 1:\n",
    "                spam_with_double_free += 1\n",
    "\n",
    "    if total_with_double_free == 0:\n",
    "        return 0, 0\n",
    "\n",
    "    probability = spam_with_double_free / total_with_double_free\n",
    "    return probability, total_with_double_free\n",
    "\n",
    "probability_double_free, total_with_double_free = calculate_probability_double_free(spam_no_spam)\n",
    "print(f\"P(Y=1 | 'free' appears twice in X): {probability_double_free}\")\n",
    "\n",
    "# fill in the estimate for hatP for the double free question in part 3 here (should be a number between 0 and 1)\n",
    "problem4_hatP2 = probability_double_free"
   ]
  },
  {
   "cell_type": "code",
   "execution_count": 29,
   "id": "8d19289d",
   "metadata": {
    "deletable": false,
    "lx_assignment_number": "vB",
    "lx_assignment_type": "EXAM",
    "lx_assignment_type2print": "Exam",
    "lx_problem_cell_type": "PROBLEM",
    "lx_problem_number": "4",
    "lx_problem_points": "8"
   },
   "outputs": [
    {
     "name": "stdout",
     "output_type": "stream",
     "text": [
      "No SMS with 'free' appearing twice.\n"
     ]
    },
    {
     "ename": "NameError",
     "evalue": "name 'lower_bound_double_free' is not defined",
     "output_type": "error",
     "traceback": [
      "\u001b[1;31m---------------------------------------------------------------------------\u001b[0m",
      "\u001b[1;31mNameError\u001b[0m                                 Traceback (most recent call last)",
      "Cell \u001b[1;32mIn[29], line 9\u001b[0m\n\u001b[0;32m      7\u001b[0m \u001b[38;5;28mprint\u001b[39m(\u001b[38;5;124m\"\u001b[39m\u001b[38;5;124mNo SMS with \u001b[39m\u001b[38;5;124m'\u001b[39m\u001b[38;5;124mfree\u001b[39m\u001b[38;5;124m'\u001b[39m\u001b[38;5;124m appearing twice.\u001b[39m\u001b[38;5;124m\"\u001b[39m)\n\u001b[0;32m      8\u001b[0m \u001b[38;5;66;03m# fill in the estimate for l for the double free question in part 3 here\u001b[39;00m\n\u001b[1;32m----> 9\u001b[0m problem4_l2 \u001b[38;5;241m=\u001b[39m \u001b[43mlower_bound_double_free\u001b[49m \u001b[38;5;241m-\u001b[39m probability_double_free\n",
      "\u001b[1;31mNameError\u001b[0m: name 'lower_bound_double_free' is not defined"
     ]
    }
   ],
   "source": [
    "\n",
    "if total_with_double_free > 0:\n",
    "    lower_bound_double_free, upper_bound_double_free = hoeffding_interval(probability_double_free, total_with_double_free)\n",
    "    print(f\"90% Confidence Interval for 'free' twice: [{lower_bound_double_free}, {upper_bound_double_free}]\")\n",
    "    # fill in the estimate for l for the double free question in part 3 here\n",
    "    problem4_l2 = lower_bound_double_free - probability_double_free\n",
    "else:\n",
    "    print(\"No SMS with 'free' appearing twice.\")\n",
    "    # fill in the estimate for l for the double free question in part 3 here\n",
    "    problem4_l2 = lower_bound_double_free - probability_double_free"
   ]
  },
  {
   "cell_type": "markdown",
   "id": "34a7d777",
   "metadata": {
    "deletable": false,
    "lx_assignment_number": "vB",
    "lx_assignment_type": "EXAM",
    "lx_assignment_type2print": "Exam",
    "lx_problem_cell_type": "PROBLEM",
    "lx_problem_number": "5",
    "lx_problem_points": "8"
   },
   "source": [
    "---\n",
    "## Exam vB, PROBLEM 5\n",
    "Maximum Points = 8"
   ]
  },
  {
   "cell_type": "markdown",
   "id": "2d7e686c",
   "metadata": {
    "deletable": false,
    "lx_assignment_number": "vB",
    "lx_assignment_type": "EXAM",
    "lx_assignment_type2print": "Exam",
    "lx_problem_cell_type": "PROBLEM",
    "lx_problem_number": "5",
    "lx_problem_points": "8"
   },
   "source": [
    "\n",
    "## Markovian travel\n",
    "\n",
    "The dataset `Travel Dataset - Datathon 2019` is a simulated dataset designed to mimic real corporate travel systems -- focusing on flights and hotels. The file is at `data/flights.csv` in the same folder as `Exam.ipynb`, i.e. you can use the path `data/flights.csv` from the notebook to access the file.\n",
    "\n",
    "1. [2p] In the first code-box \n",
    "    1. Load the csv from file `data/flights.csv`\n",
    "    2. Fill in the value of the variables as specified by their names.\n",
    "2. [2p] In the second code-box your goal is to estimate a Markov chain transition matrix for the travels of these users. For example, if we enumerate the cities according to alphabetical order, the first city `'Aracaju (SE)'` would correspond to $0$. Each row of the file corresponds to one flight, i.e. it has a starting city and an ending city. We model this as a stationary Markov chain, i.e. each user's travel trajectory is a realization of the Markov chain, $X_t$. Here, $X_t$ is the current city the user is at, at step $t$, and $X_{t+1}$ is the city the user travels to at the next time step. This means that to each row in the file there is a corresponding pair $(X_{t},X_{t+1})$. The stationarity assumption gives that for all $t$ there is a transition density $p$ such that $P(X_{t+1} = y | X_t = x) = p(x,y)$ (for all $x,y$). The transition matrix should be `n_cities` x `n_citites` in size.\n",
    "3. [2p] Use the transition matrix to compute out the stationary distribution.\n",
    "4. [2p] Given that we start in 'Aracaju (SE)' what is the probability that after 3 steps we will be back in 'Aracaju (SE)'?"
   ]
  },
  {
   "cell_type": "code",
   "execution_count": 33,
   "id": "ae50be9c",
   "metadata": {
    "deletable": false,
    "lx_assignment_number": "vB",
    "lx_assignment_type": "EXAM",
    "lx_assignment_type2print": "Exam",
    "lx_problem_cell_type": "PROBLEM",
    "lx_problem_number": "5",
    "lx_problem_points": "8"
   },
   "outputs": [],
   "source": [
    "import pandas as pd\n",
    "import numpy as np\n",
    "\n",
    "# Load the dataset\n",
    "flights_data = pd.read_csv(\"data/flights.csv\")\n",
    "\n",
    "# Extract the number of unique cities\n",
    "cities = flights_data[['from', 'to']].values.flatten()\n",
    "unique_cities = sorted(set(cities))\n",
    "number_of_cities = len(unique_cities)\n",
    "\n",
    "# Extract the number of unique user codes\n",
    "number_of_userCodes = flights_data['userCode'].nunique()\n",
    "\n",
    "# Extract the number of observations (rows in the dataset)\n",
    "number_of_observations = len(flights_data)\n"
   ]
  },
  {
   "cell_type": "code",
   "execution_count": 34,
   "id": "74b2cd78",
   "metadata": {
    "deletable": false,
    "lx_assignment_number": "vB",
    "lx_assignment_type": "EXAM",
    "lx_assignment_type2print": "Exam",
    "lx_problem_cell_type": "PROBLEM",
    "lx_problem_number": "5",
    "lx_problem_points": "8"
   },
   "outputs": [],
   "source": [
    "\n",
    "# This is a very useful function that you can use for part 2. You have seen this before when parsing the\n",
    "# pride and prejudice book.\n",
    "\n",
    "def makeFreqDict(myDataList):\n",
    "    '''Make a frequency mapping out of a list of data.\n",
    "\n",
    "    Param myDataList, a list of data.\n",
    "    Return a dictionary mapping each unique data value to its frequency count.'''\n",
    "\n",
    "    freqDict = {} # start with an empty dictionary\n",
    "\n",
    "    for res in myDataList:\n",
    "        if res in freqDict: # the data value already exists as a key\n",
    "                freqDict[res] = freqDict[res] + 1 # add 1 to the count using sage integers\n",
    "        else: # the data value does not exist as a key value\n",
    "            freqDict[res] = 1 # add a new key-value pair for this new data value, frequency 1\n",
    "\n",
    "    return freqDict # return the dictionary created"
   ]
  },
  {
   "cell_type": "code",
   "execution_count": 35,
   "id": "ddfee1fd",
   "metadata": {
    "deletable": false,
    "lx_assignment_number": "vB",
    "lx_assignment_type": "EXAM",
    "lx_assignment_type2print": "Exam",
    "lx_problem_cell_type": "PROBLEM",
    "lx_problem_number": "5",
    "lx_problem_points": "8"
   },
   "outputs": [],
   "source": [
    "\n",
    "cities = list(flights_data['from']) + list(flights_data['to'])\n",
    "unique_cities = sorted(set(cities)) # The unique cities\n",
    "n_cities = len(unique_cities) # The number of unique citites\n",
    "\n",
    "# Count the different transitions\n",
    "transitions = list(zip(flights_data['from'], flights_data['to'])) # A list containing tuples ex: ('Aracaju (SE)','Rio de Janeiro (RJ)') of all transitions in the text\n",
    "transition_counts = makeFreqDict(transitions) # A dictionary that counts the number of each transition \n",
    "# ex: ('Aracaju (SE)','Rio de Janeiro (RJ)'):4\n",
    "indexToCity = {idx: city for idx, city in enumerate(unique_cities)} # A dictionary that maps the n-1 number to the n:th unique_city,\n",
    "# ex: 0:'Aracaju (SE)'\n",
    "cityToIndex = {city: idx for idx, city in indexToCity.items()}  # The inverse function of indexToWord, \n",
    "# ex: 'Aracaju (SE)':0\n",
    "\n",
    "# Part 3, finding the maximum likelihood estimate of the transition matrix\n",
    "# Create the transition matrix\n",
    "transition_matrix = np.zeros((n_cities, n_cities))\n",
    "\n",
    "for (from_city, to_city), count in transition_counts.items():\n",
    "    from_idx = cityToIndex[from_city]\n",
    "    to_idx = cityToIndex[to_city]\n",
    "    transition_matrix[from_idx, to_idx] += count\n",
    "\n",
    "# Normalize rows to create a probability matrix\n",
    "row_sums = transition_matrix.sum(axis=1, keepdims=True)\n",
    "transition_matrix = np.divide(transition_matrix, row_sums, where=row_sums != 0)\n",
    "#transition_matrix = XXX # a numpy array of size (n_cities,n_cities)\n",
    "\n",
    "# The transition matrix should be ordered in such a way that\n",
    "# p_{'Aracaju (SE)','Rio de Janeiro (RJ)'} = transition_matrix[cityToIndex['Aracaju (SE)'],cityToIndex['Rio de Janeiro (RJ)']]\n",
    "# and represents the probability of travelling Aracaju (SE)->Rio de Janeiro (RJ)\n",
    "\n",
    "# Make sure that the transition_matrix does not contain np.nan from division by zero for instance"
   ]
  },
  {
   "cell_type": "code",
   "execution_count": 36,
   "id": "b2053f5d",
   "metadata": {
    "deletable": false,
    "lx_assignment_number": "vB",
    "lx_assignment_type": "EXAM",
    "lx_assignment_type2print": "Exam",
    "lx_problem_cell_type": "PROBLEM",
    "lx_problem_number": "5",
    "lx_problem_points": "8"
   },
   "outputs": [],
   "source": [
    "\n",
    "# This should be a numpy array of length n_cities which sums to 1 and is all positive\n",
    "eigvals, eigvecs = np.linalg.eig(transition_matrix.T)\n",
    "stationary_distribution = eigvecs[:, np.isclose(eigvals, 1)]\n",
    "stationary_distribution = stationary_distribution[:, 0]\n",
    "stationary_distribution = stationary_distribution.real / stationary_distribution.real.sum()\n",
    "stationary_distribution_problem5 = stationary_distribution\n"
   ]
  },
  {
   "cell_type": "code",
   "execution_count": 37,
   "id": "a9b10afd",
   "metadata": {
    "deletable": false,
    "lx_assignment_number": "vB",
    "lx_assignment_type": "EXAM",
    "lx_assignment_type2print": "Exam",
    "lx_problem_cell_type": "PROBLEM",
    "lx_problem_number": "5",
    "lx_problem_points": "8"
   },
   "outputs": [
    {
     "name": "stdout",
     "output_type": "stream",
     "text": [
      "Probability of returning to 'Aracaju (SE)' after 3 steps: 0.13331717737273133\n"
     ]
    }
   ],
   "source": [
    "\n",
    "# Compute the return probability for part 3 of problem 5\n",
    "\n",
    "# Find the index of 'Aracaju (SE)'\n",
    "aracaju_index = cityToIndex['Aracaju (SE)']\n",
    "\n",
    "# Compute the 3-step transition matrix\n",
    "three_step_transition_matrix = np.linalg.matrix_power(transition_matrix, 3)\n",
    "\n",
    "# Find the probability of returning to 'Aracaju (SE)' after 3 steps\n",
    "return_probability_problem5 = three_step_transition_matrix[aracaju_index, aracaju_index]\n",
    "\n",
    "print(\"Probability of returning to 'Aracaju (SE)' after 3 steps:\", return_probability_problem5)\n"
   ]
  },
  {
   "cell_type": "markdown",
   "id": "31083a19",
   "metadata": {
    "deletable": false,
    "lx_assignment_number": "vB",
    "lx_assignment_type": "EXAM",
    "lx_assignment_type2print": "Exam",
    "lx_problem_cell_type": "Test",
    "lx_problem_number": "5",
    "lx_problem_points": "8"
   },
   "source": [
    "---\n",
    "#### Local Test for Exam vB, PROBLEM 5\n",
    "Evaluate cell below to make sure your answer is valid.                             You **should not** modify anything in the cell below when evaluating it to do a local test of                             your solution.\n",
    "You may need to include and evaluate code snippets from lecture notebooks in cells above to make the local test work correctly sometimes (see error messages for clues). This is meant to help you become efficient at recalling materials covered in lectures that relate to this problem. Such local tests will generally not be available in the exam."
   ]
  },
  {
   "cell_type": "code",
   "execution_count": 38,
   "id": "5c51e7c9",
   "metadata": {
    "deletable": false,
    "lx_assignment_number": "vB",
    "lx_assignment_type": "EXAM",
    "lx_assignment_type2print": "Exam",
    "lx_problem_cell_type": "Test",
    "lx_problem_number": "5",
    "lx_problem_points": "8"
   },
   "outputs": [
    {
     "name": "stdout",
     "output_type": "stream",
     "text": [
      "Aracaju (SE)->Florianopolis (SC)->Campo Grande (MS)->Florianopolis (SC)->Campo Grande (MS)->Aracaju (SE)->Campo Grande (MS)->Aracaju (SE)->Sao Paulo (SP)->Florianopolis (SC)->"
     ]
    }
   ],
   "source": [
    "# Once you have created all your functions, you can make a small test here to see\n",
    "# what would be generated from your model.\n",
    "import numpy as np\n",
    "\n",
    "start = np.zeros(shape=(n_cities,1))\n",
    "start[cityToIndex['Aracaju (SE)'],0] = 1\n",
    "\n",
    "current_pos = start\n",
    "for i in range(10):\n",
    "    random_word_index = np.random.choice(range(n_cities),p=current_pos.reshape(-1))\n",
    "    current_pos = np.zeros_like(start)\n",
    "    current_pos[random_word_index] = 1\n",
    "    print(indexToCity[random_word_index],end='->')\n",
    "    current_pos = (current_pos.T@transition_matrix).T"
   ]
  },
  {
   "cell_type": "markdown",
   "id": "c69d372c",
   "metadata": {
    "deletable": false,
    "lx_assignment_number": "vB",
    "lx_assignment_type": "EXAM",
    "lx_assignment_type2print": "Exam",
    "lx_problem_cell_type": "PROBLEM",
    "lx_problem_number": "6",
    "lx_problem_points": "8"
   },
   "source": [
    "---\n",
    "## Exam vB, PROBLEM 6\n",
    "Maximum Points = 8"
   ]
  },
  {
   "cell_type": "markdown",
   "id": "fbb4571e",
   "metadata": {
    "deletable": false,
    "lx_assignment_number": "vB",
    "lx_assignment_type": "EXAM",
    "lx_assignment_type2print": "Exam",
    "lx_problem_cell_type": "PROBLEM",
    "lx_problem_number": "6",
    "lx_problem_points": "8"
   },
   "source": [
    "\n",
    "## Black box testing\n",
    "\n",
    "In the following problem we will continue with our SMS spam / nospam data. This time we will try to approach the problem as a pattern recognition problem. For this particular problem I have provided you with everything -- data is prepared, split into train-test sets and a black-box model has been fitted on the training data and predicted on the test data. Your goal is to calculate test metrics and provide guarantees for each metric.\n",
    "\n",
    "1. [2p] Compute precision for class 1 (see notes 8.3.2 for definition), then provide an interval using Hoeffding's inequality for a 95\\% confidence.\n",
    "2. [2p] Compute recall for class 1(see notes 8.3.2 for definition), then provide an interval using Hoeffding's inequality for a 95\\% interval.\n",
    "3. [2p] Compute accuracy (0-1 loss), then provide an interval using Hoeffding's inequality for a 95\\% interval.\n",
    "4. [2p] If we would have used a classifier with VC-dimension 3, would we have obtained a smaller interval for accuracy by using all data?"
   ]
  },
  {
   "cell_type": "code",
   "execution_count": 1,
   "id": "6f8148a9",
   "metadata": {
    "deletable": false,
    "jupyter": {
     "source_hidden": false
    },
    "lx_assignment_number": "vB",
    "lx_assignment_type": "EXAM",
    "lx_assignment_type2print": "Exam",
    "lx_problem_cell_type": "PROBLEM",
    "lx_problem_number": "6",
    "lx_problem_points": "8"
   },
   "outputs": [],
   "source": [
    "\n",
    "# The code below will load data, split the data into train and test and run a \"black box\" algorithm on it\n",
    "# the result of the \"black box\" is stored in predictions_problem6, the true values will be stored in\n",
    "# Y_test_problem6\n",
    "import exam_extras\n",
    "from exam_extras import load_sms_problem6\n",
    "X_problem6, Y_problem6 = load_sms_problem6()\n",
    "\n",
    "X_train_problem6,X_test_problem6,Y_train_problem6,Y_test_problem6 = exam_extras.train_test_split(X_problem6,Y_problem6)\n",
    "predictions_problem6 = exam_extras.knn_predictions(X_train_problem6,Y_train_problem6,X_test_problem6,k=4)"
   ]
  },
  {
   "cell_type": "code",
   "execution_count": null,
   "id": "25f59dcd",
   "metadata": {
    "deletable": false,
    "lx_assignment_number": "vB",
    "lx_assignment_type": "EXAM",
    "lx_assignment_type2print": "Exam",
    "lx_problem_cell_type": "PROBLEM",
    "lx_problem_number": "6",
    "lx_problem_points": "8"
   },
   "outputs": [],
   "source": [
    "\n",
    "# Compute the precision of predictions_problem6 with respect to Y_test_problem6\n",
    "problem6_precision = precision_score(Y_test_problem6, predictions_problem6, pos_label=1)"
   ]
  },
  {
   "cell_type": "code",
   "execution_count": null,
   "id": "8737fd58",
   "metadata": {
    "deletable": false,
    "lx_assignment_number": "vB",
    "lx_assignment_type": "EXAM",
    "lx_assignment_type2print": "Exam",
    "lx_problem_cell_type": "PROBLEM",
    "lx_problem_number": "6",
    "lx_problem_points": "8"
   },
   "outputs": [],
   "source": [
    "\n",
    "# Compute the interval length l of precision of predictions_problem6 with respect to Y_test_problem6, with the same definition of l as in problem 4\n",
    "# Number of test samples\n",
    "n = len(Y_test_problem6)\n",
    "\n",
    "# Hoeffding's inequality interval for precision\n",
    "epsilon_precision = np.sqrt(np.log(2 / 0.05) / (2 * n))\n",
    "problem6_precision_l = epsilon_precision"
   ]
  },
  {
   "cell_type": "code",
   "execution_count": null,
   "id": "9bbb2ebc",
   "metadata": {
    "deletable": false,
    "lx_assignment_number": "vB",
    "lx_assignment_type": "EXAM",
    "lx_assignment_type2print": "Exam",
    "lx_problem_cell_type": "PROBLEM",
    "lx_problem_number": "6",
    "lx_problem_points": "8"
   },
   "outputs": [],
   "source": [
    "\n",
    "# Repeat the same procedure but for recall\n",
    "problem6_recall = recall_score(Y_test_problem6, predictions_problem6, pos_label=1)"
   ]
  },
  {
   "cell_type": "code",
   "execution_count": null,
   "id": "d18b6f78",
   "metadata": {
    "deletable": false,
    "lx_assignment_number": "vB",
    "lx_assignment_type": "EXAM",
    "lx_assignment_type2print": "Exam",
    "lx_problem_cell_type": "PROBLEM",
    "lx_problem_number": "6",
    "lx_problem_points": "8"
   },
   "outputs": [],
   "source": [
    "\n",
    "# Hoeffding's inequality interval for recall\n",
    "epsilon_recall = np.sqrt(np.log(2 / 0.05) / (2 * n))\n",
    "problem6_recall_l = epsilon_recall"
   ]
  },
  {
   "cell_type": "code",
   "execution_count": null,
   "id": "83ade7dd",
   "metadata": {
    "deletable": false,
    "lx_assignment_number": "vB",
    "lx_assignment_type": "EXAM",
    "lx_assignment_type2print": "Exam",
    "lx_problem_cell_type": "PROBLEM",
    "lx_problem_number": "6",
    "lx_problem_points": "8"
   },
   "outputs": [],
   "source": [
    "\n",
    "# Repeat the same procedure but for accuracy or 0-1 loss\n",
    "problem6_accuracy = accuracy_score(Y_test_problem6, predictions_problem6)"
   ]
  },
  {
   "cell_type": "code",
   "execution_count": null,
   "id": "206e2b11",
   "metadata": {
    "deletable": false,
    "lx_assignment_number": "vB",
    "lx_assignment_type": "EXAM",
    "lx_assignment_type2print": "Exam",
    "lx_problem_cell_type": "PROBLEM",
    "lx_problem_number": "6",
    "lx_problem_points": "8"
   },
   "outputs": [],
   "source": [
    "\n",
    "# Hoeffding's inequality interval for accuracy\n",
    "epsilon_accuracy = np.sqrt(np.log(2 / 0.05) / (2 * n))\n",
    "problem6_accuracy_l = epsilon_accuracy"
   ]
  },
  {
   "cell_type": "code",
   "execution_count": null,
   "id": "df926281",
   "metadata": {
    "deletable": false,
    "lx_assignment_number": "vB",
    "lx_assignment_type": "EXAM",
    "lx_assignment_type2print": "Exam",
    "lx_problem_cell_type": "PROBLEM",
    "lx_problem_number": "6",
    "lx_problem_points": "8"
   },
   "outputs": [],
   "source": [
    "\n",
    "# Below you will calculate the interval parameter l for a classifier running on all data with a VC dimension of 3\n",
    "# put the value in problem6_VC_l and answer problem_VC_smaller as True if the interval is smaller than the test-accuracy above\n",
    "# if not answer False. Make sure you replace XXX with something even if you only answer one of them.\n",
    "# For VC-dimension 3, assume the total sample size is 1000 (for example)\n",
    "n_all = 1000  # If we used all data, replace with actual number if different\n",
    "epsilon_VC = np.sqrt(np.log(2 / 0.05) / (2 * n_all))\n",
    "problem6_VC_l = epsilon_VC\n",
    "problem6_VC_smaller = problem6_VC_l < problem6_accuracy_l #True / False"
   ]
  }
 ],
 "metadata": {
  "kernelspec": {
   "display_name": "Python 3",
   "language": "python",
   "name": "python3"
  },
  "language_info": {
   "codemirror_mode": {
    "name": "ipython",
    "version": 3
   },
   "file_extension": ".py",
   "mimetype": "text/x-python",
   "name": "python",
   "nbconvert_exporter": "python",
   "pygments_lexer": "ipython3",
   "version": "3.11.9"
  },
  "lx_assignment_number": "vB",
  "lx_course_instance": "2022",
  "lx_course_name": "Introduction to Data Science",
  "lx_course_number": "1MS041"
 },
 "nbformat": 4,
 "nbformat_minor": 5
}
